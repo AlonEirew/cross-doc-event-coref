{
 "cells": [
  {
   "cell_type": "markdown",
   "source": [
    "Declare all imports"
   ],
   "metadata": {
    "collapsed": false,
    "pycharm": {
     "name": "#%% md\n"
    }
   }
  },
  {
   "cell_type": "code",
   "execution_count": 1,
   "outputs": [],
   "source": [
    "import random\n",
    "from collections import Counter\n",
    "from src import LIBRARY_ROOT\n",
    "from src.dataobjs.cluster import Clusters\n",
    "from src.dataobjs.dataset import WecDataSet\n",
    "from src.dataobjs.mention_data import MentionData\n",
    "from src.dataobjs.topics import Topics\n",
    "from src.utils.io_utils import write_mention_to_json\n",
    "from src.utils.sqlite_utils import select_all_from_clusters, create_connection\n",
    "from src.utils.string_utils import StringUtils\n",
    "import numpy as np\n",
    "import math\n",
    "from matplotlib import pyplot as plt\n"
   ],
   "metadata": {
    "collapsed": false,
    "pycharm": {
     "name": "#%%\n",
     "is_executing": false
    }
   }
  },
  {
   "cell_type": "markdown",
   "source": [
    "Measure Clusters and Mentions by type "
   ],
   "metadata": {
    "collapsed": false
   }
  },
  {
   "cell_type": "code",
   "execution_count": 3,
   "outputs": [],
   "source": [
    "dev_mentions = MentionData.read_mentions_json_to_mentions_data_list(str(LIBRARY_ROOT) +\n",
    "            '/resources/dataset_full/wec/dev/Event_gold_mentions_validated2.json')\n",
    "\n",
    "test_mentions = MentionData.read_mentions_json_to_mentions_data_list(str(LIBRARY_ROOT) +\n",
    "            '/resources/dataset_full/wec/test/Event_gold_mentions_validated2.json')\n",
    "\n",
    "train_mentions = MentionData.read_mentions_json_to_mentions_data_list(str(LIBRARY_ROOT) +\n",
    "            '/resources/dataset_full/wec/train/Event_gold_mentions_validated3.json')\n",
    "\n",
    "all_mentions = test_mentions\n",
    "\n",
    "found = False\n",
    "final_mentions = list()\n",
    "all_types = dict()\n",
    "for mention in all_mentions:\n",
    "    if mention.mention_type not in all_types:\n",
    "        all_types[mention.mention_type] = dict()\n",
    "    if mention.coref_chain not in all_types[mention.mention_type]:\n",
    "        all_types[mention.mention_type][mention.coref_chain] = 0\n",
    "    all_types[mention.mention_type][mention.coref_chain] += 1\n",
    "\n",
    "for _type in all_types.keys():\n",
    "    print(str(_type) + \"-Clusters=\" + str(len(all_types[_type])))\n",
    "    print(str(_type) + \"-Mentions=\" + str(sum([clust for clust in all_types[_type].values()])))\n",
    "print(\"Done-\" + str(all_types))"
   ],
   "metadata": {
    "collapsed": false,
    "pycharm": {
     "name": "#%%\n",
     "is_executing": false
    }
   }
  },
  {
   "cell_type": "markdown",
   "source": [
    "Remove Sport events and clean noise from location, date and nationality\n",
    " "
   ],
   "metadata": {
    "collapsed": false
   }
  },
  {
   "cell_type": "code",
   "execution_count": 3,
   "outputs": [
    {
     "name": "stdout",
     "text": [
      "before=63857\n",
      "total mentions remove=8977\ntotal mentions in split-54880\n",
      "Process Done!\n"
     ],
     "output_type": "stream"
    }
   ],
   "source": [
    "origin_mentions = MentionData.read_mentions_json_to_mentions_data_list(str(LIBRARY_ROOT) +\n",
    "                       '/resources/wikilinks/Event_gold_mentions.json')\n",
    "\n",
    "print(\"before=\" + str(len(origin_mentions)))\n",
    "new_mention = list()\n",
    "removed = 0\n",
    "for mention in origin_mentions:\n",
    "    if mention.mention_type == 6:\n",
    "        continue\n",
    "    if 'colspan' in mention.mention_context:\n",
    "        continue\n",
    "        \n",
    "    _, _, _, ner = StringUtils.find_head_lemma_pos_ner(mention.tokens_str)\n",
    "    if StringUtils.is_verb_phrase(mention.tokens_str):\n",
    "        new_mention.append(mention)\n",
    "    elif ner not in [\"GPE\", \"LOC\", \"DATE\", \"NORP\", \"PERSON\"]:\n",
    "        new_mention.append(mention)\n",
    "\n",
    "print(\"total mentions remove=\" + str(len(origin_mentions) - len(new_mention)))\n",
    "print(\"total mentions in split-\" + str(len(new_mention)))\n",
    "write_mention_to_json(str(LIBRARY_ROOT) + '/resources/wikilinks/Event_gold_mentions_1.json', new_mention)\n",
    "print(\"Process Done!\")"
   ],
   "metadata": {
    "collapsed": false,
    "pycharm": {
     "name": "#%%\n",
     "is_executing": false
    }
   }
  },
  {
   "cell_type": "markdown",
   "source": [
    "REMOVE SINGLETONS (Experiment)\n"
   ],
   "metadata": {
    "collapsed": false
   }
  },
  {
   "cell_type": "code",
   "execution_count": null,
   "outputs": [],
   "source": [
    "topics_ = Topics()\n",
    "topics_.create_from_file(\n",
    "    str(LIBRARY_ROOT) + '/resources/dataset_full/wec/train/Event_gold_mentions_limit500_validated2.json', keep_order=True)\n",
    "clusters = topics_.convert_to_clusters()\n",
    "\n",
    "fin_mentions = list()\n",
    "for ments_list in clusters.values():\n",
    "    if len(ments_list) > 1:\n",
    "        fin_mentions.extend(ments_list)\n",
    "\n",
    "write_mention_to_json(\n",
    "    str(LIBRARY_ROOT) + '/resources/dataset_full/wec/train/Event_gold_mentions_limit500.json', fin_mentions)\n"
   ],
   "metadata": {
    "collapsed": false,
    "pycharm": {
     "name": "#%%\n"
    }
   }
  },
  {
   "cell_type": "markdown",
   "source": [
    "Sample clusters for validation\n"
   ],
   "metadata": {
    "collapsed": false
   }
  },
  {
   "cell_type": "code",
   "execution_count": 3,
   "outputs": [
    {
     "name": "stdout",
     "text": [
      "40529\n7042\n{3219718, 2541959, 12554, 2218259, 1993635, 1605805, 52655, 43451, 127298, 4056901, 136008, 604624, 1409750, 759129, 141535, 266727, 779752, 745328, 634485, 438010}\n96\nDone!\n"
     ],
     "output_type": "stream"
    }
   ],
   "source": [
    "_event1 = str(LIBRARY_ROOT) + '/resources/dataset_full/wec/train/Event_gold_mentions_clean11.json'\n",
    "mentions = MentionData.read_mentions_json_to_mentions_data_list(_event1)\n",
    "clusters = Clusters.from_mentions_to_gold_clusters(mentions)\n",
    "print(str(len(mentions)))\n",
    "print(str(len(clusters)))\n",
    "cluster_prop = [[clust_id] * len(clust) for clust_id, clust in clusters.items()]\n",
    "cluster_prop = [item for sublist in cluster_prop for item in sublist]\n",
    "\n",
    "selected_clust = set(random.sample(cluster_prop, 20))\n",
    "while len(selected_clust) < 20:\n",
    "    selected_clust.add(random.sample(cluster_prop, 1))    \n",
    "print(selected_clust)\n",
    "\n",
    "selected_ment = list()\n",
    "for clust_id in selected_clust:\n",
    "    if len(clusters[clust_id]) <= 5:\n",
    "        selected_ment.extend(clusters[clust_id])\n",
    "    else:\n",
    "        selected_ment.extend(random.sample(clusters[clust_id], 5))\n",
    "\n",
    "print(len(selected_ment))\n",
    "\n",
    "write_mention_to_json(str(LIBRARY_ROOT) + '/resources/dataset_full/wec/clusters_for_validation_take2.json', selected_ment)\n",
    "print(\"Done!\")"
   ],
   "metadata": {
    "collapsed": false,
    "pycharm": {
     "name": "#%%\n",
     "is_executing": false
    }
   }
  },
  {
   "cell_type": "markdown",
   "source": [
    "Create examples for manual validation (from unclean data)\n"
   ],
   "metadata": {
    "collapsed": false
   }
  },
  {
   "cell_type": "code",
   "execution_count": 4,
   "outputs": [],
   "source": [
    "valid_mentions = list()\n",
    "valid1 = str(LIBRARY_ROOT) + '/resources/dataset_full/wec/dev/Event_gold_mentions_validated2.json'\n",
    "valid2 = str(LIBRARY_ROOT) + '/resources/dataset_full/wec/test/Event_gold_mentions_validated2.json'\n",
    "# all_mentions.extend(MentionData.read_mentions_json_to_mentions_data_list(valid1))\n",
    "valid_mentions.extend(MentionData.read_mentions_json_to_mentions_data_list(valid2))\n",
    "valid_clusters = Clusters.from_mentions_to_gold_clusters(valid_mentions)\n",
    "\n",
    "non_valid_mentions = list()\n",
    "not_valid1 = str(LIBRARY_ROOT) + '/resources/bkp/final_dataset_unclean/WEC_Dev_Full_Event_gold_mentions.json'\n",
    "not_valid2 = str(LIBRARY_ROOT) + '/resources/bkp/final_dataset_unclean/WEC_Test_Full_Event_gold_mentions.json'\n",
    "# all_mentions.extend(MentionData.read_mentions_json_to_mentions_data_list(not_valid1))\n",
    "non_valid_mentions.extend(MentionData.read_mentions_json_to_mentions_data_list(not_valid2))\n",
    "non_valid_cluters = Clusters.from_mentions_to_gold_clusters(non_valid_mentions)\n",
    "\n",
    "final_mentions = list()\n",
    "for cluster_id, mention_list in non_valid_cluters.items():\n",
    "    if cluster_id not in valid_clusters:\n",
    "        for mention in mention_list:\n",
    "            if StringUtils.is_verb_phrase(mention.tokens_str):\n",
    "                final_mentions.append(mention)\n",
    "            elif mention.mention_ner not in [\"GPE\", \"LOC\", \"DATE\", \"NORP\", \"PERSON\"]:\n",
    "                final_mentions.append(mention)\n",
    "\n",
    "write_mention_to_json(str(LIBRARY_ROOT) + '/resources/bkp/final_dataset_unclean/WEC_All_Full_Event_gold_mentions_Not_valid.json', final_mentions)\n",
    "print(\"Process Done!\")"
   ],
   "metadata": {
    "collapsed": false,
    "pycharm": {
     "name": "#%%\n",
     "is_executing": false
    }
   }
  },
  {
   "cell_type": "markdown",
   "source": [
    "Remove Big clusters and see affect on dataset size\n"
   ],
   "metadata": {
    "collapsed": false
   }
  },
  {
   "cell_type": "code",
   "execution_count": 14,
   "outputs": [],
   "source": [
    "MAX_CLUST = 70\n",
    "\n",
    "origin_mentions = MentionData.read_mentions_json_to_mentions_data_list(str(LIBRARY_ROOT) +\n",
    "                       '/resources/dataset_full/wec/train/Event_gold_mentions_clean3.json')\n",
    "\n",
    "print(\"before=\" + str(len(origin_mentions)))\n",
    "clusters = Clusters.from_mentions_to_gold_clusters(origin_mentions)\n",
    "new_mentions = list()\n",
    "clusters_num = 0\n",
    "for clust_key, clust in clusters.items():\n",
    "    if len(clust) <= MAX_CLUST:\n",
    "        clusters_num += 1\n",
    "        new_mentions.extend(clust)\n",
    "\n",
    "print(\"Clust=\" + str(clusters_num))\n",
    "print(\"Ment=\" + str(len(new_mentions)))\n"
   ],
   "metadata": {
    "collapsed": false,
    "pycharm": {
     "name": "#%%\n",
     "is_executing": false
    }
   }
  },
  {
   "cell_type": "markdown",
   "source": [
    "Counting number of mentions in cluster with same string (and correlation with coref title)\n"
   ],
   "metadata": {
    "collapsed": false
   }
  },
  {
   "cell_type": "code",
   "execution_count": 6,
   "outputs": [
    {
     "name": "stdout",
     "text": [
      "Average max same string in clust=3.832116788321168\nDone!\n"
     ],
     "output_type": "stream"
    }
   ],
   "source": [
    "origin_mentions = MentionData.read_mentions_json_to_mentions_data_list(str(LIBRARY_ROOT) +\n",
    "                       '/resources/dataset_full/ecb/train/Event_gold_mentions.json')\n",
    "\n",
    "clusters = Clusters.from_mentions_to_gold_clusters(origin_mentions)\n",
    "ret_counts = list()\n",
    "total = 0\n",
    "non_singleton_count = 0\n",
    "for clust in clusters.values():\n",
    "    clust_count = Counter([mention.tokens_str.lower() for mention in clust])\n",
    "    if len(clust) > 1:\n",
    "        total += max(clust_count.values())\n",
    "        non_singleton_count += 1\n",
    "    if hasattr(clust, 'coref_link'):\n",
    "        ret_counts.append(clust[0].coref_link + \"(\" + str(len(clust)) + \")\" + \"=\" + str(clust_count) + \"\\n\")\n",
    "    else:\n",
    "        ret_counts.append(clust[0].coref_chain + \"(\" + str(len(clust)) + \")\" + \"=\" + str(clust_count) + \"\\n\")\n",
    "\n",
    "f = open(str(LIBRARY_ROOT) + '/reports/wec.txt','w')\n",
    "f.writelines(ret_counts)\n",
    "f.close()\n",
    "\n",
    "print(\"Average max same string in clust=\" + str(total/non_singleton_count))\n",
    "print(\"Done!\")"
   ],
   "metadata": {
    "collapsed": false,
    "pycharm": {
     "name": "#%%\n",
     "is_executing": false
    }
   }
  },
  {
   "cell_type": "markdown",
   "source": [
    "Adding mention link(coref page name) to mentions file"
   ],
   "metadata": {
    "collapsed": false
   }
  },
  {
   "cell_type": "code",
   "execution_count": 2,
   "outputs": [],
   "source": [
    "origin_mentions = MentionData.read_mentions_json_to_mentions_data_list(str(LIBRARY_ROOT) +\n",
    "                       '/resources/dataset_full/wec/train/Event_gold_mentions_clean4.json')\n",
    "connection = create_connection(\"/Users/aeirew/workspace/DataBase/EnWikiLinks_v11.db\")\n",
    "clusters = select_all_from_clusters(connection)\n",
    "\n",
    "for mention in origin_mentions:\n",
    "    if mention.coref_chain not in clusters:\n",
    "        raise Exception(\"ERROR: No such coref_chain\")\n",
    "    \n",
    "    mention.coref_link = clusters[mention.coref_chain]\n",
    "    \n",
    "write_mention_to_json(str(LIBRARY_ROOT) + '/resources/dataset_full/wec/train/Event_gold_mentions_clean5.jso', origin_mentions)\n",
    "\n",
    "print(\"Done!\")"
   ],
   "metadata": {
    "collapsed": false,
    "pycharm": {
     "name": "#%%\n",
     "is_executing": false
    }
   }
  },
  {
   "cell_type": "markdown",
   "source": [
    "Limit number of mentions with same string in cluster to MAX "
   ],
   "metadata": {
    "collapsed": false
   }
  },
  {
   "cell_type": "code",
   "execution_count": 2,
   "outputs": [
    {
     "name": "stdout",
     "text": [
      "total mentions remove=33160\ntotal mentions in split-21720\ntotal clusters in split-2122\n",
      "Done!\n"
     ],
     "output_type": "stream"
    }
   ],
   "source": [
    "MAX = 4\n",
    "origin_mentions = MentionData.read_mentions_json_to_mentions_data_list(str(LIBRARY_ROOT) +\n",
    "                       '/resources/wikilinks/Event_gold_mentions_1.json')\n",
    "\n",
    "clusters = Clusters.from_mentions_to_gold_clusters(origin_mentions)\n",
    "final_mentions = list()\n",
    "for clust in clusters.values():\n",
    "    clust_dict_names = dict()\n",
    "    for mention in clust:\n",
    "        if mention.tokens_str.lower() not in clust_dict_names:\n",
    "            clust_dict_names[mention.tokens_str.lower()] = list()\n",
    "        clust_dict_names[mention.tokens_str.lower()].append(mention)\n",
    "        \n",
    "    for ment_list in clust_dict_names.values():\n",
    "        if len(ment_list) >= MAX:\n",
    "            final_mentions.extend(list(random.sample(ment_list, MAX)))\n",
    "        else:\n",
    "            final_mentions.extend(ment_list)\n",
    "\n",
    "final_clusters = Clusters.from_mentions_to_gold_clusters(final_mentions)\n",
    "print(\"total mentions remove=\" + str(len(origin_mentions) - len(final_mentions)))\n",
    "print(\"total mentions in split-\" + str(len(final_mentions)))\n",
    "print(\"total clusters in split-\" + str(len(final_clusters)))\n",
    "write_mention_to_json(str(LIBRARY_ROOT) + '/resources/wikilinks/Event_gold_mentions_2.json', final_mentions)            \n",
    "print(\"Done!\")"
   ],
   "metadata": {
    "collapsed": false,
    "pycharm": {
     "name": "#%%\n",
     "is_executing": false
    }
   }
  },
  {
   "cell_type": "markdown",
   "source": [
    "Filter mentions with span longer then MAX_SPAN"
   ],
   "metadata": {
    "collapsed": false,
    "pycharm": {
     "name": "#%% md\n"
    }
   }
  },
  {
   "cell_type": "code",
   "execution_count": 7,
   "outputs": [],
   "source": [
    "MAX_SPAN = 7\n",
    "\n",
    "origin_mentions = MentionData.read_mentions_json_to_mentions_data_list(str(LIBRARY_ROOT) +\n",
    "                       '/resources/dataset_full/wec/train/Event_gold_mentions_clean7_uncut.json')\n",
    "\n",
    "final_mentions = list()\n",
    "for mention in origin_mentions:\n",
    "    if (mention.tokens_number[-1] - mention.tokens_number[0]) <= MAX_SPAN:\n",
    "        final_mentions.append(mention)\n",
    "    \n",
    "print(\"total mentions remove=\" + str(len(origin_mentions) - len(final_mentions)))\n",
    "print(\"total mentions in split-\" + str(len(final_mentions)))\n",
    "write_mention_to_json(str(LIBRARY_ROOT) + '/resources/dataset_full/wec/train/Event_gold_mentions_clean8_uncut.json', final_mentions)            \n",
    "print(\"Done!\")"
   ],
   "metadata": {
    "collapsed": false,
    "pycharm": {
     "name": "#%%\n",
     "is_executing": false
    }
   }
  },
  {
   "cell_type": "markdown",
   "source": [
    "Fix mention topic_id and mention_id"
   ],
   "metadata": {
    "collapsed": false
   }
  },
  {
   "cell_type": "code",
   "execution_count": 2,
   "outputs": [],
   "source": [
    "origin_mentions = MentionData.read_mentions_json_to_mentions_data_list(str(LIBRARY_ROOT) +\n",
    "                       '/resources/dataset_full/wec/train/Event_gold_mentions_clean5_uncut.json')\n",
    "\n",
    "index = 1\n",
    "for mention in origin_mentions:\n",
    "    mention.topic_id = -1\n",
    "    mention.mention_id = index\n",
    "    index += 1\n",
    "    \n",
    "write_mention_to_json(str(LIBRARY_ROOT) + '/resources/dataset_full/wec/train/Event_gold_mentions_clean6_uncut.json', origin_mentions)            \n",
    "print(\"Done!\")"
   ],
   "metadata": {
    "collapsed": false,
    "pycharm": {
     "name": "#%%\n",
     "is_executing": false
    }
   }
  },
  {
   "cell_type": "markdown",
   "source": [
    "Limit mention spans of verbs only to the VERB tokens"
   ],
   "metadata": {
    "collapsed": false
   }
  },
  {
   "cell_type": "code",
   "execution_count": 2,
   "outputs": [],
   "source": [
    "origin_mentions = MentionData.read_mentions_json_to_mentions_data_list(str(LIBRARY_ROOT) +\n",
    "                       '/resources/dataset_full/wec/all/Event_gold_mentions_clean8_uncut_span7.json')\n",
    "\n",
    "modified = 0\n",
    "for mention in origin_mentions:\n",
    "    if len(mention.tokens_number) > 1:\n",
    "        phrase_index = StringUtils.extract_verb_phrase_index(mention)\n",
    "        if len(phrase_index) > 0:\n",
    "            modified += 1\n",
    "            print(\"Before=\" + mention.tokens_str)\n",
    "            new_ment = \" \".join(mention.mention_context[phrase_index[0]:phrase_index[-1] + 1]).strip()\n",
    "            if len(new_ment) > 0:\n",
    "                mention.tokens_str = new_ment\n",
    "                mention.tokens_number = phrase_index\n",
    "                print(\"After=\" + mention.tokens_str)\n",
    "\n",
    "print(\"Modified=\" + str(modified))\n",
    "write_mention_to_json(str(LIBRARY_ROOT) + '/resources/dataset_full/wec/all/Event_gold_mentions_clean9_uncut_verb.json', origin_mentions)            \n",
    "print(\"Done!\")"
   ],
   "metadata": {
    "collapsed": false,
    "pycharm": {
     "name": "#%%\n",
     "is_executing": false
    }
   }
  },
  {
   "cell_type": "markdown",
   "source": [
    "Remove mentions when context containin HTTP"
   ],
   "metadata": {
    "collapsed": false
   }
  },
  {
   "cell_type": "code",
   "execution_count": 2,
   "outputs": [],
   "source": [
    "origin_mentions = MentionData.read_mentions_json_to_mentions_data_list(str(LIBRARY_ROOT) +\n",
    "                       '/resources/dataset_full/wec/train/Event_gold_mentions_clean6_uncut.json')\n",
    "final_mentions = list()\n",
    "for mention in origin_mentions:\n",
    "    contx = \" \".join(mention.mention_context)\n",
    "    if \"http\" in contx:\n",
    "        continue\n",
    "    final_mentions.append(mention)\n",
    "    \n",
    "print(\"total mentions remove=\" + str(len(origin_mentions) - len(final_mentions)))\n",
    "print(\"total mentions in split-\" + str(len(final_mentions)))\n",
    "write_mention_to_json(str(LIBRARY_ROOT) + '/resources/dataset_full/wec/train/Event_gold_mentions_clean7.json', final_mentions)            \n",
    "print(\"Done!\")"
   ],
   "metadata": {
    "collapsed": false,
    "pycharm": {
     "name": "#%%\n",
     "is_executing": false
    }
   }
  },
  {
   "cell_type": "markdown",
   "source": [
    "Draw histograms of the data\n"
   ],
   "metadata": {
    "collapsed": false
   }
  },
  {
   "cell_type": "code",
   "execution_count": 8,
   "outputs": [
    {
     "name": "stdout",
     "text": [
      "[1, 1, 1, 2, 2, 2, 2, 2, 2, 2, 2, 2, 2, 2, 2, 3, 3, 3, 3, 3, 4, 4, 4, 4, 4, 4, 4, 4, 4, 4, 4, 4, 5, 5, 5, 5, 5, 5, 5, 5, 5, 6, 6, 6, 6, 6, 6, 6, 6, 6, 7, 7, 7, 7, 7, 7, 7, 7, 7, 7, 7, 7, 7, 7, 8, 8, 8, 8, 8, 8, 8, 9, 9, 10, 10, 10, 10, 10, 10, 10, 10, 11, 11, 11, 11, 11, 11, 11, 11, 11, 12, 12, 13, 13, 13, 13, 13, 14, 14, 14, 15, 15, 15, 15, 15, 15, 15, 16, 16, 17, 18, 18, 18, 19, 19, 19, 19, 19, 20, 20, 21, 21, 21, 22, 22, 22, 23, 25, 25, 25, 25, 26, 26, 28, 28, 29, 29, 29, 30, 33, 33, 34, 38, 38, 40, 41, 42, 43, 44, 46, 46, 52, 53, 56, 58, 63, 73, 73]\n"
     ],
     "output_type": "stream"
    },
    {
     "data": {
      "text/plain": "<Figure size 432x288 with 1 Axes>",
      "image/png": "[encoded data removed]"
     },
     "metadata": {},
     "output_type": "display_data"
    }
   ],
   "source": [
    "font = {'family' : 'sans-serif',\n",
    "        'weight' : 'bold',\n",
    "        'size'   : 22}\n",
    "\n",
    "mentions = MentionData.read_mentions_json_to_mentions_data_list(str(LIBRARY_ROOT) +\n",
    "                       '/resources/dataset_full/wec/dev/Event_gold_mentions_clean11_v2.json')\n",
    "clusters = Clusters.from_mentions_to_gold_clusters(mentions)\n",
    "\n",
    "\n",
    "data = [len(clust) for clust in clusters.values() if len(clust) <= 80] \n",
    "print(str(sorted(data)))\n",
    "bins = np.arange(math.ceil(min(data)), math.floor(max(data)), 1)\n",
    "\n",
    "plt.rc('font', **font)\n",
    "plt.rcParams.update({'text.color' : \"white\", 'axes.labelcolor' : \"white\"})\n",
    "plt.rcParams.update({'xtick.color':'white'})\n",
    "\n",
    "plt.xlim([min(data)-5, max(data)+5])\n",
    "\n",
    "plt.hist(data, bins=bins, alpha=0.5)\n",
    "plt.title('TRAIN')\n",
    "plt.xlabel('Cluster Size')\n",
    "plt.ylabel('Count')\n",
    "plt.rcParams['figure.figsize'] = [15, 7.5]\n",
    "plt.show()"
   ],
   "metadata": {
    "collapsed": false,
    "pycharm": {
     "name": "#%%\n",
     "is_executing": false
    }
   }
  },
  {
   "cell_type": "code",
   "execution_count": 8,
   "outputs": [
    {
     "name": "stdout",
     "text": [
      "Final=77\nDone!\n"
     ],
     "output_type": "stream"
    }
   ],
   "source": [
    "origin_mentions = MentionData.read_mentions_json_to_mentions_data_list(str(LIBRARY_ROOT) +\n",
    "                       '/resources/dataset_full/wec/dev/dev_filtered_mentions_dont_use.json')\n",
    "\n",
    "final_mentions = list()\n",
    "for mention in origin_mentions:\n",
    "    if StringUtils.is_verb_phrase(mention.tokens_str):\n",
    "        final_mentions.append(mention)\n",
    "\n",
    "print(\"Final=\" + str(len(final_mentions)))\n",
    "write_mention_to_json(str(LIBRARY_ROOT) + '/resources/dataset_full/wec/dev/dev_filtered_verbs.json', final_mentions)            \n",
    "print(\"Done!\")"
   ],
   "metadata": {
    "collapsed": false,
    "pycharm": {
     "name": "#%%\n",
     "is_executing": false
    }
   }
  },
  {
   "cell_type": "code",
   "execution_count": 9,
   "outputs": [],
   "source": [
    "origin_mentions = MentionData.read_mentions_json_to_mentions_data_list(str(LIBRARY_ROOT) +\n",
    "                       '/resources/dataset_full/wec/train/Event_gold_mentions_clean11.json')\n",
    "\n",
    "sample = random.sample(origin_mentions, 100)\n",
    "\n",
    "write_mention_to_json(str(LIBRARY_ROOT) + '/resources/dataset_full/wec/sample.json', sample)"
   ],
   "metadata": {
    "collapsed": false,
    "pycharm": {
     "name": "#%%\n",
     "is_executing": false
    }
   }
  },
  {
   "cell_type": "markdown",
   "source": [
    "Extract distribution of infoboxs to events to mentions\n"
   ],
   "metadata": {
    "collapsed": false,
    "pycharm": {
     "name": "#%% md\n"
    }
   }
  },
  {
   "cell_type": "code",
   "execution_count": 7,
   "outputs": [
    {
     "name": "stdout",
     "text": [
      "Sub_Type=8, Clust=1178, Ment=9490\nSub_Type=49, Clust=1848, Ment=8910\nSub_Type=21, Clust=1212, Ment=5942\nSub_Type=22, Clust=541, Ment=2770\nSub_Type=50, Clust=268, Ment=2029\nSub_Type=2, Clust=387, Ment=3526\nSub_Type=5, Clust=121, Ment=990\nSub_Type=3, Clust=135, Ment=720\nSub_Type=9, Clust=230, Ment=1296\nSub_Type=7, Clust=31, Ment=343\nSub_Type=13, Clust=596, Ment=2640\nSub_Type=6, Clust=18, Ment=184\nSub_Type=19, Clust=262, Ment=1082\nSub_Type=18, Clust=241, Ment=1663\nSub_Type=20, Clust=65, Ment=345\nSub_Type=51, Clust=431, Ment=1616\nSub_Type=17, Clust=31, Ment=121\nSub_Type=14, Clust=2, Ment=5\nclust tot=7597\nment tot=43672\nDone!\n"
     ],
     "output_type": "stream"
    }
   ],
   "source": [
    "origin_mentions = MentionData.read_mentions_json_to_mentions_data_list(str(LIBRARY_ROOT) +\n",
    "                       '/resources/dataset_full/wec/train/Event_gold_mentions_clean12.json')\n",
    "\n",
    "origin_mentions.extend(MentionData.read_mentions_json_to_mentions_data_list(str(LIBRARY_ROOT) +\n",
    "                       '/resources/dataset_full/wec/dev/Event_gold_mentions_clean12_validated.json'))\n",
    "origin_mentions.extend(MentionData.read_mentions_json_to_mentions_data_list(str(LIBRARY_ROOT) +\n",
    "                       '/resources/dataset_full/wec/test/Event_gold_mentions_clean12_validated.json'))\n",
    "\n",
    "clusters = Clusters.from_mentions_to_gold_clusters(origin_mentions)\n",
    "\n",
    "conn = create_connection(\"/Users/aeirew/workspace/DataBase/EnWikiLinks_v11.db\")\n",
    "query = \"SELECT * from CorefChains;\"\n",
    "cur = conn.cursor()\n",
    "cur.execute(query)\n",
    "rows = cur.fetchall()\n",
    "\n",
    "sub_type_clust = dict()\n",
    "\n",
    "for coref in rows:\n",
    "    cluster_id = coref[0]\n",
    "    cluster_link = coref[1]\n",
    "    coref_sub_type = coref[4]\n",
    "    if cluster_id in clusters:\n",
    "        if coref_sub_type not in sub_type_clust:\n",
    "            sub_type_clust[coref_sub_type] = list()\n",
    "        sub_type_clust[coref_sub_type].append(len(clusters[cluster_id])) \n",
    "\n",
    "clusters_tot = 0\n",
    "mention_tot = 0\n",
    "for infobox_type, clust_sums in sub_type_clust.items():\n",
    "    print(\"Sub_Type=\" + str(infobox_type) + \", Clust=\" + str(len(clust_sums)) + \", Ment=\" + str(sum(clust_sums)))\n",
    "    clusters_tot += len(clust_sums)\n",
    "    mention_tot += sum(clust_sums)\n",
    "\n",
    "print(\"clust tot=\" + str(clusters_tot))\n",
    "print(\"ment tot=\" + str(mention_tot))\n",
    "print(\"Done!\")"
   ],
   "metadata": {
    "collapsed": false,
    "pycharm": {
     "name": "#%%\n",
     "is_executing": false
    }
   }
  }
 ],
 "metadata": {
  "kernelspec": {
   "name": "python3",
   "language": "python",
   "display_name": "Python 3"
  },
  "language_info": {
   "codemirror_mode": {
    "name": "ipython",
    "version": 2
   },
   "file_extension": ".py",
   "mimetype": "text/x-python",
   "name": "python",
   "nbconvert_exporter": "python",
   "pygments_lexer": "ipython2",
   "version": "2.7.6"
  }
 },
 "nbformat": 4,
 "nbformat_minor": 0
}