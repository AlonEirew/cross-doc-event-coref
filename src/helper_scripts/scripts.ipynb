{
 "cells": [
  {
   "cell_type": "markdown",
   "source": [
    "Declare all imports"
   ],
   "metadata": {
    "collapsed": false,
    "pycharm": {
     "name": "#%% md\n"
    }
   }
  },
  {
   "cell_type": "code",
   "execution_count": 2,
   "outputs": [],
   "source": [
    "import random\n",
    "from collections import Counter\n",
    "from src import LIBRARY_ROOT\n",
    "from src.dataobjs.cluster import Clusters\n",
    "from src.dataobjs.mention_data import MentionData\n",
    "from src.dataobjs.topics import Topics\n",
    "from src.utils.io_utils import write_mention_to_json\n",
    "from src.utils.sqlite_utils import select_all_from_clusters, create_connection\n",
    "from src.utils.string_utils import StringUtils\n"
   ],
   "metadata": {
    "collapsed": false,
    "pycharm": {
     "name": "#%%\n",
     "is_executing": false
    }
   }
  },
  {
   "cell_type": "markdown",
   "source": [
    "Measure Clusters and Mentions by type "
   ],
   "metadata": {
    "collapsed": false
   }
  },
  {
   "cell_type": "code",
   "execution_count": 3,
   "outputs": [],
   "source": [
    "dev_mentions = MentionData.read_mentions_json_to_mentions_data_list(str(LIBRARY_ROOT) +\n",
    "            '/resources/dataset_full/wec/dev/Event_gold_mentions_validated2.json')\n",
    "\n",
    "test_mentions = MentionData.read_mentions_json_to_mentions_data_list(str(LIBRARY_ROOT) +\n",
    "            '/resources/dataset_full/wec/test/Event_gold_mentions_validated2.json')\n",
    "\n",
    "train_mentions = MentionData.read_mentions_json_to_mentions_data_list(str(LIBRARY_ROOT) +\n",
    "            '/resources/dataset_full/wec/train/Event_gold_mentions_validated3.json')\n",
    "\n",
    "all_mentions = test_mentions\n",
    "\n",
    "found = False\n",
    "final_mentions = list()\n",
    "all_types = dict()\n",
    "for mention in all_mentions:\n",
    "    if mention.mention_type not in all_types:\n",
    "        all_types[mention.mention_type] = dict()\n",
    "    if mention.coref_chain not in all_types[mention.mention_type]:\n",
    "        all_types[mention.mention_type][mention.coref_chain] = 0\n",
    "    all_types[mention.mention_type][mention.coref_chain] += 1\n",
    "\n",
    "for _type in all_types.keys():\n",
    "    print(str(_type) + \"-Clusters=\" + str(len(all_types[_type])))\n",
    "    print(str(_type) + \"-Mentions=\" + str(sum([clust for clust in all_types[_type].values()])))\n",
    "print(\"Done-\" + str(all_types))"
   ],
   "metadata": {
    "collapsed": false,
    "pycharm": {
     "name": "#%%\n",
     "is_executing": false
    }
   }
  },
  {
   "cell_type": "markdown",
   "source": [
    "Remove Sport events and clean noise from location, date and nationality\n",
    " "
   ],
   "metadata": {
    "collapsed": false
   }
  },
  {
   "cell_type": "code",
   "execution_count": 16,
   "outputs": [],
   "source": [
    "origin_mentions = MentionData.read_mentions_json_to_mentions_data_list(str(LIBRARY_ROOT) +\n",
    "                       '/resources/dataset_full/wec/train/Event_gold_mentions_clean3.json')\n",
    "\n",
    "print(\"before=\" + str(len(origin_mentions)))\n",
    "new_mention = list()\n",
    "removed = 0\n",
    "for mention in origin_mentions:\n",
    "    if mention.mention_type == 6:\n",
    "        continue\n",
    "    if 'colspan' in mention.mention_context:\n",
    "        continue\n",
    "        \n",
    "    if StringUtils.is_verb_phrase(mention.tokens_str):\n",
    "        new_mention.append(mention)\n",
    "    elif mention.mention_ner not in [\"GPE\", \"LOC\", \"DATE\", \"NORP\", \"PERSON\"]:\n",
    "        new_mention.append(mention)\n",
    "\n",
    "print(\"total mentions remove=\" + str(len(origin_mentions) - len(new_mention)))\n",
    "print(\"total mentions in split-\" + str(len(new_mention)))\n",
    "write_mention_to_json(str(LIBRARY_ROOT) + '/resources/dataset_full/wec/train/Event_gold_mentions_clean4.json', new_mention)\n",
    "print(\"Process Done!\")"
   ],
   "metadata": {
    "collapsed": false,
    "pycharm": {
     "name": "#%%\n",
     "is_executing": false
    }
   }
  },
  {
   "cell_type": "markdown",
   "source": [
    "REMOVE SINGLETONS\n"
   ],
   "metadata": {
    "collapsed": false
   }
  },
  {
   "cell_type": "code",
   "execution_count": null,
   "outputs": [],
   "source": [
    "topics_ = Topics()\n",
    "topics_.create_from_file(\n",
    "    str(LIBRARY_ROOT) + '/resources/dataset_full/wec/train/Event_gold_mentions_limit500_validated2.json', keep_order=True)\n",
    "clusters = topics_.convert_to_clusters()\n",
    "\n",
    "fin_mentions = list()\n",
    "for ments_list in clusters.values():\n",
    "    if len(ments_list) > 1:\n",
    "        fin_mentions.extend(ments_list)\n",
    "\n",
    "write_mention_to_json(\n",
    "    str(LIBRARY_ROOT) + '/resources/dataset_full/wec/train/Event_gold_mentions_limit500.json', fin_mentions)\n"
   ],
   "metadata": {
    "collapsed": false,
    "pycharm": {
     "name": "#%%\n"
    }
   }
  },
  {
   "cell_type": "markdown",
   "source": [
    "Sample clusters for agreement\n"
   ],
   "metadata": {
    "collapsed": false
   }
  },
  {
   "cell_type": "code",
   "execution_count": null,
   "outputs": [],
   "source": [
    "_event1 = str(LIBRARY_ROOT) + '/resources/dataset_full/wec/train_clusters_for_validation.json'\n",
    "mentions = MentionData.read_mentions_json_to_mentions_data_list(_event1)\n",
    "clusters = Clusters.from_mentions_to_gold_clusters(mentions)\n",
    "print(str(len(mentions)))\n",
    "print(str(len(clusters)))\n",
    "selected_clust = random.sample(list(clusters.values()), 400)\n",
    "flat_list = [item for sublist in selected_clust for item in sublist]\n",
    "print(len(flat_list))\n",
    "\n",
    "write_mention_to_json(str(LIBRARY_ROOT) + '/resources/dataset_full/gvc/test/GVC_All_gold_event_mentions.json', flat_list)"
   ],
   "metadata": {
    "collapsed": false,
    "pycharm": {
     "name": "#%%\n"
    }
   }
  },
  {
   "cell_type": "markdown",
   "source": [
    "Create examples for manual validation (from unclean data)\n"
   ],
   "metadata": {
    "collapsed": false
   }
  },
  {
   "cell_type": "code",
   "execution_count": 4,
   "outputs": [],
   "source": [
    "valid_mentions = list()\n",
    "valid1 = str(LIBRARY_ROOT) + '/resources/dataset_full/wec/dev/Event_gold_mentions_validated2.json'\n",
    "valid2 = str(LIBRARY_ROOT) + '/resources/dataset_full/wec/test/Event_gold_mentions_validated2.json'\n",
    "# all_mentions.extend(MentionData.read_mentions_json_to_mentions_data_list(valid1))\n",
    "valid_mentions.extend(MentionData.read_mentions_json_to_mentions_data_list(valid2))\n",
    "valid_clusters = Clusters.from_mentions_to_gold_clusters(valid_mentions)\n",
    "\n",
    "non_valid_mentions = list()\n",
    "not_valid1 = str(LIBRARY_ROOT) + '/resources/bkp/final_dataset_unclean/WEC_Dev_Full_Event_gold_mentions.json'\n",
    "not_valid2 = str(LIBRARY_ROOT) + '/resources/bkp/final_dataset_unclean/WEC_Test_Full_Event_gold_mentions.json'\n",
    "# all_mentions.extend(MentionData.read_mentions_json_to_mentions_data_list(not_valid1))\n",
    "non_valid_mentions.extend(MentionData.read_mentions_json_to_mentions_data_list(not_valid2))\n",
    "non_valid_cluters = Clusters.from_mentions_to_gold_clusters(non_valid_mentions)\n",
    "\n",
    "final_mentions = list()\n",
    "for cluster_id, mention_list in non_valid_cluters.items():\n",
    "    if cluster_id not in valid_clusters:\n",
    "        for mention in mention_list:\n",
    "            if StringUtils.is_verb_phrase(mention.tokens_str):\n",
    "                final_mentions.append(mention)\n",
    "            elif mention.mention_ner not in [\"GPE\", \"LOC\", \"DATE\", \"NORP\", \"PERSON\"]:\n",
    "                final_mentions.append(mention)\n",
    "\n",
    "write_mention_to_json(str(LIBRARY_ROOT) + '/resources/bkp/final_dataset_unclean/WEC_All_Full_Event_gold_mentions_Not_valid.json', final_mentions)\n",
    "print(\"Process Done!\")"
   ],
   "metadata": {
    "collapsed": false,
    "pycharm": {
     "name": "#%%\n",
     "is_executing": false
    }
   }
  },
  {
   "cell_type": "markdown",
   "source": [
    "Remove Big clusters and see affect on dataset size\n"
   ],
   "metadata": {
    "collapsed": false
   }
  },
  {
   "cell_type": "code",
   "execution_count": 14,
   "outputs": [],
   "source": [
    "MAX_CLUST = 70\n",
    "\n",
    "origin_mentions = MentionData.read_mentions_json_to_mentions_data_list(str(LIBRARY_ROOT) +\n",
    "                       '/resources/dataset_full/wec/train/Event_gold_mentions_clean3.json')\n",
    "\n",
    "print(\"before=\" + str(len(origin_mentions)))\n",
    "clusters = Clusters.from_mentions_to_gold_clusters(origin_mentions)\n",
    "new_mentions = list()\n",
    "clusters_num = 0\n",
    "for clust_key, clust in clusters.items():\n",
    "    if len(clust) <= MAX_CLUST:\n",
    "        clusters_num += 1\n",
    "        new_mentions.extend(clust)\n",
    "\n",
    "print(\"Clust=\" + str(clusters_num))\n",
    "print(\"Ment=\" + str(len(new_mentions)))\n"
   ],
   "metadata": {
    "collapsed": false,
    "pycharm": {
     "name": "#%%\n",
     "is_executing": false
    }
   }
  },
  {
   "cell_type": "markdown",
   "source": [
    "Counting number of mentions in cluster with same string (and correlation with coref title)\n"
   ],
   "metadata": {
    "collapsed": false
   }
  },
  {
   "cell_type": "code",
   "execution_count": 3,
   "outputs": [],
   "source": [
    "origin_mentions = MentionData.read_mentions_json_to_mentions_data_list(str(LIBRARY_ROOT) +\n",
    "                       '/resources/dataset_full/wec/all/Event_gold_mentions_clean9.json')\n",
    "\n",
    "clusters = Clusters.from_mentions_to_gold_clusters(origin_mentions)\n",
    "ret_counts = list()\n",
    "for clust in clusters.values():\n",
    "    clust_count = Counter([mention.tokens_str.lower() for mention in clust])\n",
    "    ret_counts.append(clust[0].coref_link + \"(\" + str(len(clust)) + \")\" + \"=\" + str(clust_count) + \"\\n\")\n",
    "\n",
    "f = open(str(LIBRARY_ROOT) + '/reports/wec.txt','w')\n",
    "f.writelines(ret_counts)\n",
    "f.close()\n",
    "\n",
    "print(\"Done!\")"
   ],
   "metadata": {
    "collapsed": false,
    "pycharm": {
     "name": "#%%\n",
     "is_executing": false
    }
   }
  },
  {
   "cell_type": "markdown",
   "source": [
    "Adding mention link(coref page name) to mentions file"
   ],
   "metadata": {
    "collapsed": false
   }
  },
  {
   "cell_type": "code",
   "execution_count": 2,
   "outputs": [],
   "source": [
    "origin_mentions = MentionData.read_mentions_json_to_mentions_data_list(str(LIBRARY_ROOT) +\n",
    "                       '/resources/dataset_full/wec/train/Event_gold_mentions_clean4.json')\n",
    "connection = create_connection(\"/Users/aeirew/workspace/DataBase/EnWikiLinks_v11.db\")\n",
    "clusters = select_all_from_clusters(connection)\n",
    "\n",
    "for mention in origin_mentions:\n",
    "    if mention.coref_chain not in clusters:\n",
    "        raise Exception(\"ERROR: No such coref_chain\")\n",
    "    \n",
    "    mention.coref_link = clusters[mention.coref_chain]\n",
    "    \n",
    "write_mention_to_json(str(LIBRARY_ROOT) + '/resources/dataset_full/wec/train/Event_gold_mentions_clean5.jso', origin_mentions)\n",
    "\n",
    "print(\"Done!\")"
   ],
   "metadata": {
    "collapsed": false,
    "pycharm": {
     "name": "#%%\n",
     "is_executing": false
    }
   }
  },
  {
   "cell_type": "markdown",
   "source": [
    "Limit number of mentions with same string in cluster to MAX "
   ],
   "metadata": {
    "collapsed": false
   }
  },
  {
   "cell_type": "code",
   "execution_count": 8,
   "outputs": [
    {
     "name": "stdout",
     "text": [
      "total mentions remove=54268\ntotal mentions in split-40622\n",
      "Done!\n"
     ],
     "output_type": "stream"
    }
   ],
   "source": [
    "MAX = 5\n",
    "origin_mentions = MentionData.read_mentions_json_to_mentions_data_list(str(LIBRARY_ROOT) +\n",
    "                       '/resources/dataset_full/wec/train/Event_gold_mentions_clean10_uncut.json')\n",
    "\n",
    "clusters = Clusters.from_mentions_to_gold_clusters(origin_mentions)\n",
    "final_mentions = list()\n",
    "for clust in clusters.values():\n",
    "    clust_dict_names = dict()\n",
    "    for mention in clust:\n",
    "        if mention.tokens_str.lower() not in clust_dict_names:\n",
    "            clust_dict_names[mention.tokens_str.lower()] = list()\n",
    "        clust_dict_names[mention.tokens_str.lower()].append(mention)\n",
    "        \n",
    "    for ment_list in clust_dict_names.values():\n",
    "        if len(ment_list) >= MAX:\n",
    "            final_mentions.extend(list(random.sample(ment_list, MAX)))\n",
    "        else:\n",
    "            final_mentions.extend(ment_list)\n",
    "\n",
    "print(\"total mentions remove=\" + str(len(origin_mentions) - len(final_mentions)))\n",
    "print(\"total mentions in split-\" + str(len(final_mentions)))\n",
    "write_mention_to_json(str(LIBRARY_ROOT) + '/resources/dataset_full/wec/train/Event_gold_mentions_clean11.json', final_mentions)            \n",
    "print(\"Done!\")"
   ],
   "metadata": {
    "collapsed": false,
    "pycharm": {
     "name": "#%%\n",
     "is_executing": false
    }
   }
  },
  {
   "cell_type": "markdown",
   "source": [
    "Filter mentions with span longer then MAX_SPAN"
   ],
   "metadata": {
    "collapsed": false,
    "pycharm": {
     "name": "#%% md\n"
    }
   }
  },
  {
   "cell_type": "code",
   "execution_count": 7,
   "outputs": [],
   "source": [
    "MAX_SPAN = 7\n",
    "\n",
    "origin_mentions = MentionData.read_mentions_json_to_mentions_data_list(str(LIBRARY_ROOT) +\n",
    "                       '/resources/dataset_full/wec/train/Event_gold_mentions_clean7_uncut.json')\n",
    "\n",
    "final_mentions = list()\n",
    "for mention in origin_mentions:\n",
    "    if (mention.tokens_number[-1] - mention.tokens_number[0]) <= MAX_SPAN:\n",
    "        final_mentions.append(mention)\n",
    "    \n",
    "print(\"total mentions remove=\" + str(len(origin_mentions) - len(final_mentions)))\n",
    "print(\"total mentions in split-\" + str(len(final_mentions)))\n",
    "write_mention_to_json(str(LIBRARY_ROOT) + '/resources/dataset_full/wec/train/Event_gold_mentions_clean8_uncut.json', final_mentions)            \n",
    "print(\"Done!\")"
   ],
   "metadata": {
    "collapsed": false,
    "pycharm": {
     "name": "#%%\n",
     "is_executing": false
    }
   }
  },
  {
   "cell_type": "markdown",
   "source": [
    "Fix mention topic_id and mention_id"
   ],
   "metadata": {
    "collapsed": false
   }
  },
  {
   "cell_type": "code",
   "execution_count": 2,
   "outputs": [],
   "source": [
    "origin_mentions = MentionData.read_mentions_json_to_mentions_data_list(str(LIBRARY_ROOT) +\n",
    "                       '/resources/dataset_full/wec/train/Event_gold_mentions_clean5_uncut.json')\n",
    "\n",
    "index = 1\n",
    "for mention in origin_mentions:\n",
    "    mention.topic_id = -1\n",
    "    mention.mention_id = index\n",
    "    index += 1\n",
    "    \n",
    "write_mention_to_json(str(LIBRARY_ROOT) + '/resources/dataset_full/wec/train/Event_gold_mentions_clean6_uncut.json', origin_mentions)            \n",
    "print(\"Done!\")"
   ],
   "metadata": {
    "collapsed": false,
    "pycharm": {
     "name": "#%%\n",
     "is_executing": false
    }
   }
  },
  {
   "cell_type": "markdown",
   "source": [
    "Limit mention spans of verbs only to the VERB tokens"
   ],
   "metadata": {
    "collapsed": false
   }
  },
  {
   "cell_type": "code",
   "execution_count": 2,
   "outputs": [],
   "source": [
    "origin_mentions = MentionData.read_mentions_json_to_mentions_data_list(str(LIBRARY_ROOT) +\n",
    "                       '/resources/dataset_full/wec/all/Event_gold_mentions_clean8_uncut_span7.json')\n",
    "\n",
    "modified = 0\n",
    "for mention in origin_mentions:\n",
    "    if len(mention.tokens_number) > 1:\n",
    "        phrase_index = StringUtils.extract_verb_phrase_index(mention)\n",
    "        if len(phrase_index) > 0:\n",
    "            modified += 1\n",
    "            print(\"Before=\" + mention.tokens_str)\n",
    "            new_ment = \" \".join(mention.mention_context[phrase_index[0]:phrase_index[-1] + 1]).strip()\n",
    "            if len(new_ment) > 0:\n",
    "                mention.tokens_str = new_ment\n",
    "                mention.tokens_number = phrase_index\n",
    "                print(\"After=\" + mention.tokens_str)\n",
    "\n",
    "print(\"Modified=\" + str(modified))\n",
    "write_mention_to_json(str(LIBRARY_ROOT) + '/resources/dataset_full/wec/all/Event_gold_mentions_clean9_uncut_verb.json', origin_mentions)            \n",
    "print(\"Done!\")"
   ],
   "metadata": {
    "collapsed": false,
    "pycharm": {
     "name": "#%%\n",
     "is_executing": false
    }
   }
  },
  {
   "cell_type": "markdown",
   "source": [
    "Remove mentions when context containin HTTP"
   ],
   "metadata": {
    "collapsed": false
   }
  },
  {
   "cell_type": "code",
   "execution_count": 2,
   "outputs": [],
   "source": [
    "origin_mentions = MentionData.read_mentions_json_to_mentions_data_list(str(LIBRARY_ROOT) +\n",
    "                       '/resources/dataset_full/wec/train/Event_gold_mentions_clean6_uncut.json')\n",
    "final_mentions = list()\n",
    "for mention in origin_mentions:\n",
    "    contx = \" \".join(mention.mention_context)\n",
    "    if \"http\" in contx:\n",
    "        continue\n",
    "    final_mentions.append(mention)\n",
    "    \n",
    "print(\"total mentions remove=\" + str(len(origin_mentions) - len(final_mentions)))\n",
    "print(\"total mentions in split-\" + str(len(final_mentions)))\n",
    "write_mention_to_json(str(LIBRARY_ROOT) + '/resources/dataset_full/wec/train/Event_gold_mentions_clean7.json', final_mentions)            \n",
    "print(\"Done!\")\n"
   ],
   "metadata": {
    "collapsed": false,
    "pycharm": {
     "name": "#%%\n",
     "is_executing": false
    }
   }
  }
 ],
 "metadata": {
  "kernelspec": {
   "name": "python3",
   "language": "python",
   "display_name": "Python 3"
  },
  "language_info": {
   "codemirror_mode": {
    "name": "ipython",
    "version": 2
   },
   "file_extension": ".py",
   "mimetype": "text/x-python",
   "name": "python",
   "nbconvert_exporter": "python",
   "pygments_lexer": "ipython2",
   "version": "2.7.6"
  },
  "pycharm": {
   "stem_cell": {
    "cell_type": "raw",
    "source": [],
    "metadata": {
     "collapsed": false
    }
   }
  }
 },
 "nbformat": 4,
 "nbformat_minor": 0
}