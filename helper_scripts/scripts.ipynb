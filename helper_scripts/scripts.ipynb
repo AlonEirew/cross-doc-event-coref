{
 "cells": [
  {
   "cell_type": "markdown",
   "source": [
    "Declare all imports"
   ],
   "metadata": {
    "collapsed": false,
    "pycharm": {
     "name": "#%% md\n"
    }
   }
  },
  {
   "cell_type": "code",
   "execution_count": 1,
   "outputs": [],
   "source": [
    "import math\n",
    "import random\n",
    "from collections import Counter\n",
    "\n",
    "import numpy as np\n",
    "from matplotlib import pyplot as plt\n",
    "\n",
    "from src.dataobjs.cluster import Clusters\n",
    "from src.dataobjs.mention_data import MentionData\n",
    "from src.utils.io_utils import write_mention_to_json\n"
   ],
   "metadata": {
    "collapsed": false,
    "pycharm": {
     "name": "#%%\n"
    }
   }
  },
  {
   "cell_type": "markdown",
   "source": [
    "Measure Clusters and Mentions by type "
   ],
   "metadata": {
    "collapsed": false
   }
  },
  {
   "cell_type": "code",
   "execution_count": 3,
   "outputs": [],
   "source": [
    "dev_mentions = MentionData.read_mentions_json_to_mentions_data_list(\n",
    "            '../resources/wec/dev/Event_gold_mentions.json')\n",
    "\n",
    "test_mentions = MentionData.read_mentions_json_to_mentions_data_list(\n",
    "            '../resources/wec/test/Event_gold_mentions.json')\n",
    "\n",
    "train_mentions = MentionData.read_mentions_json_to_mentions_data_list(\n",
    "            '../resources/wec/train/Event_gold_mentions.json')\n",
    "\n",
    "all_mentions = test_mentions\n",
    "\n",
    "found = False\n",
    "final_mentions = list()\n",
    "all_types = dict()\n",
    "for mention in all_mentions:\n",
    "    if mention.mention_type not in all_types:\n",
    "        all_types[mention.mention_type] = dict()\n",
    "    if mention.coref_chain not in all_types[mention.mention_type]:\n",
    "        all_types[mention.mention_type][mention.coref_chain] = 0\n",
    "    all_types[mention.mention_type][mention.coref_chain] += 1\n",
    "\n",
    "for _type in all_types.keys():\n",
    "    print(str(_type) + \"-Clusters=\" + str(len(all_types[_type])))\n",
    "    print(str(_type) + \"-Mentions=\" + str(sum([clust for clust in all_types[_type].values()])))\n",
    "print(\"Done-\" + str(all_types))\n"
   ],
   "metadata": {
    "collapsed": false,
    "pycharm": {
     "name": "#%%\n",
     "is_executing": false
    }
   }
  },
  {
   "cell_type": "markdown",
   "source": [
    "Draw histograms of the data\n"
   ],
   "metadata": {
    "collapsed": false
   }
  },
  {
   "cell_type": "code",
   "execution_count": 16,
   "outputs": [
    {
     "name": "stdout",
     "output_type": "stream",
     "text": [
      "[1, 1, 1, 1, 1, 1, 1, 1, 1, 1, 1, 1, 1, 1, 1, 1, 1, 2, 2, 2, 2, 2, 2, 2, 2, 2, 2, 2, 2, 2, 2, 2, 2, 2, 2, 2, 2, 2, 2, 2, 2, 2, 2, 2, 2, 2, 2, 2, 2, 2, 2, 2, 2, 2, 2, 2, 2, 2, 2, 3, 3, 3, 3, 3, 3, 3, 3, 3, 3, 3, 3, 3, 3, 3, 3, 3, 3, 3, 3, 3, 3, 3, 3, 3, 3, 3, 3, 3, 3, 3, 3, 3, 3, 3, 3, 3, 3, 3, 3, 3, 4, 4, 4, 4, 4, 4, 4, 4, 4, 4, 4, 4, 4, 4, 4, 4, 4, 4, 4, 4, 4, 4, 4, 4, 4, 4, 4, 4, 4, 4, 4, 4, 4, 4, 4, 4, 4, 4, 4, 4, 5, 5, 5, 5, 5, 5, 5, 5, 5, 5, 5, 5, 5, 5, 5, 5, 5, 5, 5, 6, 6, 6, 6, 6, 6, 6, 6, 6, 6, 6, 6, 6, 6, 6, 6, 7, 7, 7, 7, 7, 7, 7, 7, 7, 7, 7, 8, 8, 8, 8, 8, 8, 8, 8, 8, 9, 9, 9, 9, 9, 9, 10, 10, 10, 10, 11, 11, 11, 11, 11, 12, 12, 12, 12, 13, 13, 13, 13, 13, 14, 14, 14, 14, 15, 17, 18, 18, 18, 20, 20, 23, 26, 33]\n"
     ]
    },
    {
     "data": {
      "text/plain": "<Figure size 1080x540 with 1 Axes>",
      "image/png": "[encoded data removed]"
     },
     "metadata": {},
     "output_type": "display_data"
    }
   ],
   "source": [
    "font = {'family' : 'sans-serif',\n",
    "        'weight' : 'bold',\n",
    "        'size'   : 22}\n",
    "\n",
    "mentions = MentionData.read_mentions_json_to_mentions_data_list(\n",
    "                       '../resources/wec/dev/Event_gold_mentions.json')\n",
    "clusters = Clusters.from_mentions_to_gold_clusters(mentions)\n",
    "\n",
    "\n",
    "data = [len(clust) for clust in clusters.values() if len(clust) <= 80] \n",
    "print(str(sorted(data)))\n",
    "bins = np.arange(min(data), max(data) + 1, 1)\n",
    "\n",
    "plt.rc('font', **font)\n",
    "plt.rcParams.update({'text.color' : \"white\", 'axes.labelcolor' : \"white\"})\n",
    "plt.rcParams.update({'xtick.color':'white'})\n",
    "\n",
    "plt.xlim([0, max(data)])\n",
    "\n",
    "plt.hist(data, bins=bins)\n",
    "plt.title('TRAIN')\n",
    "plt.xlabel('Cluster Size')\n",
    "plt.ylabel('Count')\n",
    "plt.rcParams['figure.figsize'] = [15, 7.5]\n",
    "plt.show()\n"
   ],
   "metadata": {
    "collapsed": false,
    "pycharm": {
     "name": "#%%\n"
    }
   }
  }
 ],
 "metadata": {
  "kernelspec": {
   "name": "python3",
   "language": "python",
   "display_name": "Python 3"
  },
  "language_info": {
   "codemirror_mode": {
    "name": "ipython",
    "version": 2
   },
   "file_extension": ".py",
   "mimetype": "text/x-python",
   "name": "python",
   "nbconvert_exporter": "python",
   "pygments_lexer": "ipython2",
   "version": "2.7.6"
  }
 },
 "nbformat": 4,
 "nbformat_minor": 0
}